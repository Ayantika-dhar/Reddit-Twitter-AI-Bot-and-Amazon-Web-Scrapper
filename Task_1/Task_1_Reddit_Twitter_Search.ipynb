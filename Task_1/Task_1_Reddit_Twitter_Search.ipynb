{
  "nbformat": 4,
  "nbformat_minor": 0,
  "metadata": {
    "colab": {
      "provenance": []
    },
    "kernelspec": {
      "name": "python3",
      "display_name": "Python 3"
    },
    "language_info": {
      "name": "python"
    }
  },
  "cells": [
    {
      "cell_type": "markdown",
      "source": [
        "#**Choice 3: Reddit & Twitter Topic Research Bot**"
      ],
      "metadata": {
        "id": "B9j17HBctBC8"
      }
    },
    {
      "cell_type": "code",
      "execution_count": 1,
      "metadata": {
        "colab": {
          "base_uri": "https://localhost:8080/"
        },
        "id": "wMcx4YUHMKK8",
        "outputId": "2c5d76b1-cbcd-4e2e-96d8-9a28e9ed5667"
      },
      "outputs": [
        {
          "output_type": "stream",
          "name": "stdout",
          "text": [
            "Collecting praw\n",
            "  Downloading praw-7.8.1-py3-none-any.whl.metadata (9.4 kB)\n",
            "Requirement already satisfied: tweepy in /usr/local/lib/python3.11/dist-packages (4.15.0)\n",
            "Requirement already satisfied: gspread in /usr/local/lib/python3.11/dist-packages (6.2.0)\n",
            "Requirement already satisfied: oauth2client in /usr/local/lib/python3.11/dist-packages (4.1.3)\n",
            "Collecting prawcore<3,>=2.4 (from praw)\n",
            "  Downloading prawcore-2.4.0-py3-none-any.whl.metadata (5.0 kB)\n",
            "Collecting update_checker>=0.18 (from praw)\n",
            "  Downloading update_checker-0.18.0-py3-none-any.whl.metadata (2.3 kB)\n",
            "Requirement already satisfied: websocket-client>=0.54.0 in /usr/local/lib/python3.11/dist-packages (from praw) (1.8.0)\n",
            "Requirement already satisfied: oauthlib<4,>=3.2.0 in /usr/local/lib/python3.11/dist-packages (from tweepy) (3.2.2)\n",
            "Requirement already satisfied: requests<3,>=2.27.0 in /usr/local/lib/python3.11/dist-packages (from tweepy) (2.32.3)\n",
            "Requirement already satisfied: requests-oauthlib<3,>=1.2.0 in /usr/local/lib/python3.11/dist-packages (from tweepy) (2.0.0)\n",
            "Requirement already satisfied: google-auth>=1.12.0 in /usr/local/lib/python3.11/dist-packages (from gspread) (2.38.0)\n",
            "Requirement already satisfied: google-auth-oauthlib>=0.4.1 in /usr/local/lib/python3.11/dist-packages (from gspread) (1.2.1)\n",
            "Requirement already satisfied: httplib2>=0.9.1 in /usr/local/lib/python3.11/dist-packages (from oauth2client) (0.22.0)\n",
            "Requirement already satisfied: pyasn1>=0.1.7 in /usr/local/lib/python3.11/dist-packages (from oauth2client) (0.6.1)\n",
            "Requirement already satisfied: pyasn1-modules>=0.0.5 in /usr/local/lib/python3.11/dist-packages (from oauth2client) (0.4.2)\n",
            "Requirement already satisfied: rsa>=3.1.4 in /usr/local/lib/python3.11/dist-packages (from oauth2client) (4.9)\n",
            "Requirement already satisfied: six>=1.6.1 in /usr/local/lib/python3.11/dist-packages (from oauth2client) (1.17.0)\n",
            "Requirement already satisfied: cachetools<6.0,>=2.0.0 in /usr/local/lib/python3.11/dist-packages (from google-auth>=1.12.0->gspread) (5.5.2)\n",
            "Requirement already satisfied: pyparsing!=3.0.0,!=3.0.1,!=3.0.2,!=3.0.3,<4,>=2.4.2 in /usr/local/lib/python3.11/dist-packages (from httplib2>=0.9.1->oauth2client) (3.2.3)\n",
            "Requirement already satisfied: charset-normalizer<4,>=2 in /usr/local/lib/python3.11/dist-packages (from requests<3,>=2.27.0->tweepy) (3.4.1)\n",
            "Requirement already satisfied: idna<4,>=2.5 in /usr/local/lib/python3.11/dist-packages (from requests<3,>=2.27.0->tweepy) (3.10)\n",
            "Requirement already satisfied: urllib3<3,>=1.21.1 in /usr/local/lib/python3.11/dist-packages (from requests<3,>=2.27.0->tweepy) (2.3.0)\n",
            "Requirement already satisfied: certifi>=2017.4.17 in /usr/local/lib/python3.11/dist-packages (from requests<3,>=2.27.0->tweepy) (2025.1.31)\n",
            "Downloading praw-7.8.1-py3-none-any.whl (189 kB)\n",
            "\u001b[2K   \u001b[90m━━━━━━━━━━━━━━━━━━━━━━━━━━━━━━━━━━━━━━━━\u001b[0m \u001b[32m189.3/189.3 kB\u001b[0m \u001b[31m3.7 MB/s\u001b[0m eta \u001b[36m0:00:00\u001b[0m\n",
            "\u001b[?25hDownloading prawcore-2.4.0-py3-none-any.whl (17 kB)\n",
            "Downloading update_checker-0.18.0-py3-none-any.whl (7.0 kB)\n",
            "Installing collected packages: update_checker, prawcore, praw\n",
            "Successfully installed praw-7.8.1 prawcore-2.4.0 update_checker-0.18.0\n"
          ]
        }
      ],
      "source": [
        "!pip install praw tweepy gspread oauth2client\n"
      ]
    },
    {
      "cell_type": "code",
      "source": [
        "import praw\n",
        "import tweepy\n",
        "\n",
        "#Reddit Setup\n",
        "reddit = praw.Reddit(\n",
        "    client_id=\"3ZC1I0FifnOeQS1k63P0Ig\",\n",
        "    client_secret=\"Opyc_FWOnjuP3qSiLAcVuAlXsi58ig\",\n",
        "    user_agent=\"reddit-search-bot\"\n",
        ")\n",
        "\n",
        "#Twitter Setup\n",
        "bearer_token = \"AAAAAAAAAAAAAAAAAAAAACI70QEAAAAAdg4%2BLdjo5hPOvCSdWUE1Tgq%2BnFc%3DMTG5oqOegsjfkakxlCiJ5F9ujIWVIhS5DvyyK1dN5ruLb5iT6g\"\n",
        "client = tweepy.Client(bearer_token=bearer_token)\n",
        "\n",
        "#user Input\n",
        "query = input(\"Enter a topic: \")\n",
        "\n",
        "#Reddit Search\n",
        "reddit_results = []\n",
        "for post in reddit.subreddit(\"all\").search(query, limit=5):\n",
        "    reddit_results.append({\n",
        "        \"title\": post.title,\n",
        "        \"url\": post.url,\n",
        "        \"comments\": post.num_comments\n",
        "    })\n",
        "\n",
        "#Twitter Search\n",
        "twitter_results = []\n",
        "try:\n",
        "    response = client.search_recent_tweets(query=query, max_results=10)\n",
        "    if response.data:\n",
        "        for tweet in response.data:\n",
        "            twitter_results.append({\n",
        "                \"title\": tweet.text,\n",
        "                \"url\": f\"https://twitter.com/i/web/status/{tweet.id}\",\n",
        "                \"comments\": \"N/A\"\n",
        "            })\n",
        "except tweepy.TooManyRequests:\n",
        "    print(\"⏳ Rate limit hit. Please wait 15 minutes before retrying.\")\n",
        "\n",
        "\n",
        "all_results = reddit_results + twitter_results\n",
        "\n",
        "print(\"\\n--- Combined Reddit + Twitter Results ---\")\n",
        "for r in all_results:\n",
        "    print(f\"\\nTitle: {r['title']}\\nURL: {r['url']}\\nComments: {r['comments']}\")\n"
      ],
      "metadata": {
        "colab": {
          "base_uri": "https://localhost:8080/"
        },
        "id": "-g_iY8vIXjX8",
        "outputId": "c332a62c-daa4-4b85-db5d-9337ff1c0e53"
      },
      "execution_count": 27,
      "outputs": [
        {
          "name": "stdout",
          "output_type": "stream",
          "text": [
            "Enter a topic:  best python IDEs\n"
          ]
        },
        {
          "output_type": "stream",
          "name": "stderr",
          "text": [
            "WARNING:praw:It appears that you are using PRAW in an asynchronous environment.\n",
            "It is strongly recommended to use Async PRAW: https://asyncpraw.readthedocs.io.\n",
            "See https://praw.readthedocs.io/en/latest/getting_started/multiple_instances.html#discord-bots-and-asynchronous-environments for more info.\n",
            "\n"
          ]
        },
        {
          "output_type": "stream",
          "name": "stdout",
          "text": [
            "\n",
            "--- Combined Reddit + Twitter Results ---\n",
            "\n",
            "Title: What IDE do you think is best for Python Programming? I currently am using Visual Studio Code but am open to test others...\n",
            "URL: https://www.reddit.com/r/Python/comments/zolzmm/what_ide_do_you_think_is_best_for_python/\n",
            "Comments: 395\n",
            "\n",
            "Title: Best ide(s) for linux\n",
            "URL: https://www.reddit.com/r/archlinux/comments/1ft2h29/best_ides_for_linux/\n",
            "Comments: 170\n",
            "\n",
            "Title: What are the best linters and language servers for python?\n",
            "URL: https://www.reddit.com/r/Python/comments/1j8bd2n/what_are_the_best_linters_and_language_servers/\n",
            "Comments: 59\n",
            "\n",
            "Title: My guide on what tools to use to build AI agents (if you are a newb)\n",
            "URL: https://www.reddit.com/r/AI_Agents/comments/1il8b1i/my_guide_on_what_tools_to_use_to_build_ai_agents/\n",
            "Comments: 345\n",
            "\n",
            "Title: What is the best IDE for the best developer experience for python? (django, flask, scripting and ML)\n",
            "URL: https://www.reddit.com/r/learnpython/comments/1d5kssz/what_is_the_best_ide_for_the_best_developer/\n",
            "Comments: 119\n",
            "\n",
            "Title: RT @Sauain: I found an Amazing Extension 💯\n",
            "\n",
            "It is one of the BEST Artificial Intelligence tools I used in my IDEs\n",
            "\n",
            "It gives smart suggestio…\n",
            "URL: https://twitter.com/i/web/status/1906261096035451130\n",
            "Comments: N/A\n"
          ]
        }
      ]
    },
    {
      "cell_type": "code",
      "source": [
        "import gspread\n",
        "from oauth2client.service_account import ServiceAccountCredentials\n",
        "\n",
        "# Define scope and authorize credentials\n",
        "scope = [\"https://spreadsheets.google.com/feeds\", \"https://www.googleapis.com/auth/drive\"]\n",
        "creds = ServiceAccountCredentials.from_json_keyfile_name(\"credentials.json\", scope)\n",
        "client = gspread.authorize(creds)\n",
        "\n",
        "# Open the sheet\n",
        "sheet = client.open(\"Reddit_Twitter_Research\").sheet1\n",
        "\n",
        "# Clear existing data\n",
        "sheet.clear()\n",
        "\n",
        "# Set headers\n",
        "sheet.append_row([\"Platform\", \"Title\", \"URL\", \"Comments\"])\n",
        "\n",
        "#  Add Reddit results (variable name: results)\n",
        "for r in reddit_results:\n",
        "    sheet.append_row([\"Reddit\", r['title'], r['url'], r['comments']])\n",
        "\n",
        "# Add Twitter results\n",
        "for t in twitter_results:\n",
        "    sheet.append_row([\"Twitter\", t['title'], t['url'], t['comments']])\n",
        "\n",
        "print(\"Data successfully written to Google Sheets!\")\n"
      ],
      "metadata": {
        "colab": {
          "base_uri": "https://localhost:8080/"
        },
        "id": "-DNEp4Ykey7e",
        "outputId": "eeb7d293-5af3-4116-b02b-b95cbf50b470"
      },
      "execution_count": 32,
      "outputs": [
        {
          "output_type": "stream",
          "name": "stdout",
          "text": [
            "Data successfully written to Google Sheets!\n"
          ]
        }
      ]
    },
    {
      "cell_type": "code",
      "source": [],
      "metadata": {
        "id": "kAGHx4j_fRWn"
      },
      "execution_count": null,
      "outputs": []
    }
  ]
}